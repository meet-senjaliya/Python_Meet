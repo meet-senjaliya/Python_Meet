{
 "cells": [
  {
   "cell_type": "markdown",
   "metadata": {},
   "source": [
    "## WAP to find the maximum out of three input numbers"
   ]
  },
  {
   "cell_type": "code",
   "execution_count": null,
   "metadata": {},
   "outputs": [],
   "source": [
    "a=int(input())\n",
    "b=int(input())\n",
    "c=int(input())\n",
    "if a>b:\n",
    "    if a>c:\n",
    "        print(f\"{a} is maximum no \")\n",
    "    else:\n",
    "        print(f\"{c} is maximum no.\")\n",
    "elif b>c:\n",
    "    print(f\"{b} is maximum no.\")\n",
    "else:\n",
    "    print(f\"{c} is maximum no.\")\n",
    "    \n",
    "    "
   ]
  },
  {
   "cell_type": "markdown",
   "metadata": {},
   "source": [
    "## WAP to print all numbers from 0 to 6 except 3 and 6"
   ]
  },
  {
   "cell_type": "code",
   "execution_count": null,
   "metadata": {},
   "outputs": [],
   "source": [
    "for i in range(7):\n",
    "    if i==3 or i==6:\n",
    "        continue\n",
    "    print(i)"
   ]
  },
  {
   "cell_type": "markdown",
   "metadata": {},
   "source": [
    "## WAP to ask user for a number and print its multiplication table"
   ]
  },
  {
   "cell_type": "code",
   "execution_count": null,
   "metadata": {},
   "outputs": [],
   "source": [
    "x=int(input(\"Enter number\"))\n",
    "for i in range(1,11):\n",
    "    print(f\"{x} X {i} = {x*i}\")"
   ]
  },
  {
   "cell_type": "markdown",
   "metadata": {},
   "source": [
    "## WAP take user input of 10 numbers and print the average of them"
   ]
  },
  {
   "cell_type": "code",
   "execution_count": null,
   "metadata": {},
   "outputs": [],
   "source": [
    "sum=0\n",
    "for i in range(1,11):\n",
    "    a=int(input(f\"Enter number {i} \"))\n",
    "    sum=sum+a\n",
    "print(sum/10)"
   ]
  },
  {
   "cell_type": "markdown",
   "metadata": {},
   "source": [
    "## WAP to check if yesr is leap year or not"
   ]
  },
  {
   "cell_type": "code",
   "execution_count": null,
   "metadata": {},
   "outputs": [],
   "source": [
    "y=int(input(\"Enter year\"))\n",
    "if ((y%100)!=0 and y%4==0) or y%400==0:\n",
    "    print(\"year is leap year\")\n",
    "else:\n",
    "    print(\"is no\")\n",
    "    "
   ]
  },
  {
   "cell_type": "markdown",
   "metadata": {},
   "source": [
    "## WAP to desplay the fibonacci searies"
   ]
  },
  {
   "cell_type": "code",
   "execution_count": null,
   "metadata": {},
   "outputs": [],
   "source": [
    "n=int(input())\n",
    "a=0\n",
    "b=1\n",
    "print(f\"{a}\",end=\" \")\n",
    "print(f\"{b}\",end=\" \")\n",
    "while (n-3)>=0:\n",
    "    c=a+b\n",
    "    a=b\n",
    "    b=c\n",
    "    print(f\"{b}\",end=\" \")\n",
    "    n=n-1"
   ]
  },
  {
   "cell_type": "markdown",
   "metadata": {},
   "source": [
    "## 5>2,6>3,7>2"
   ]
  },
  {
   "cell_type": "code",
   "execution_count": null,
   "metadata": {},
   "outputs": [],
   "source": [
    "for i in range(200):\n",
    "    if i%5==2 and i%6==3 and i%7==2:\n",
    "        print(i)"
   ]
  },
  {
   "cell_type": "markdown",
   "metadata": {},
   "source": [
    "## find smallest no divisible by 1 to 10"
   ]
  },
  {
   "cell_type": "code",
   "execution_count": null,
   "metadata": {},
   "outputs": [],
   "source": [
    "i=1\n",
    "b=True\n",
    "while b==True\n",
    "    if i%1==0 and i%2==0 and i%3==0and i%4==0 and i%5==0and i%6==0 and i%7==0 and i%8==0 and i%9==0and i%10==0:\n",
    "        print(i)\n",
    "        b=False"
   ]
  },
  {
   "cell_type": "markdown",
   "metadata": {},
   "source": [
    "## WAP the integer solu all possible of an equation $x^2-2y^2=1$ where x and y are beetween 1 to 100"
   ]
  },
  {
   "cell_type": "code",
   "execution_count": 8,
   "metadata": {},
   "outputs": [
    {
     "name": "stdout",
     "output_type": "stream",
     "text": [
      "(3,2)\n",
      "(17,12)\n",
      "(99,70)\n"
     ]
    }
   ],
   "source": [
    "for x in range(1,101):\n",
    "    for y in range(1,101):\n",
    "        if x**2-2*y**2==1:\n",
    "            print(f\"({x},{y})\")\n",
    "    "
   ]
  },
  {
   "cell_type": "markdown",
   "metadata": {},
   "source": [
    "## 26 legs ,10 heads how many sheep nad hen"
   ]
  },
  {
   "cell_type": "code",
   "execution_count": 15,
   "metadata": {},
   "outputs": [
    {
     "name": "stdout",
     "output_type": "stream",
     "text": [
      "(sheep,hen) : (3,7)\n"
     ]
    }
   ],
   "source": [
    "for x in range(1,26):\n",
    "    for y in range(1,26):\n",
    "        if 4*x + 2*y == 26 and x + y == 10:\n",
    "             print(f\"(sheep,hen) : ({x},{y})\")"
   ]
  },
  {
   "cell_type": "markdown",
   "metadata": {},
   "source": [
    "## WAP to ask user for hour beetween 1 and 12, ask them to enter between am and pm and also ask them how many hour in future they want to go print out thw hour in future printing am and pm"
   ]
  },
  {
   "cell_type": "code",
   "execution_count": 22,
   "metadata": {},
   "outputs": [
    {
     "name": "stdout",
     "output_type": "stream",
     "text": [
      "Enter hour8\n",
      "Enter AM or PMam\n",
      "Enter hour to add12\n",
      "-4.0 AM\n"
     ]
    }
   ],
   "source": [
    "h1=float(input(\"Enter hour\"))\n",
    "t=input(\"Enter AM or PM\")\n",
    "h2=float(input(\"Enter hour to add\"))\n",
    "if h1+h2<12 and t=='am':\n",
    "    t='AM'\n",
    "    print(f\"{h1+h2} {t}\")\n",
    "elif h1+h2==12 and t=='am':\n",
    "    t='PM'\n",
    "    print(f\"{h1+h2} {t}\")\n",
    "elif h1+h2>12:\n",
    "    if t=='am':\n",
    "          t='AM'\n",
    "          print(f\"{h1+h2-24} {t}\")\n",
    "    else:\n",
    "          t='PM'\n",
    "          print(f\"{h1+h2-24} {t}\")\n",
    "                \n",
    "          \n",
    "          "
   ]
  },
  {
   "cell_type": "code",
   "execution_count": null,
   "metadata": {},
   "outputs": [],
   "source": []
  },
  {
   "cell_type": "code",
   "execution_count": null,
   "metadata": {},
   "outputs": [],
   "source": []
  }
 ],
 "metadata": {
  "kernelspec": {
   "display_name": "Python 3",
   "language": "python",
   "name": "python3"
  },
  "language_info": {
   "codemirror_mode": {
    "name": "ipython",
    "version": 3
   },
   "file_extension": ".py",
   "mimetype": "text/x-python",
   "name": "python",
   "nbconvert_exporter": "python",
   "pygments_lexer": "ipython3",
   "version": "3.8.5"
  }
 },
 "nbformat": 4,
 "nbformat_minor": 4
}
