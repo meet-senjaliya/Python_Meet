{
 "cells": [
  {
   "cell_type": "markdown",
   "metadata": {},
   "source": [
    "## WAP to ask user for hour beetween 1 and 12, ask them to enter between am and pm and also ask them how many hour in future they want to go print out thw hour in future printing am and pm"
   ]
  },
  {
   "cell_type": "code",
   "execution_count": 8,
   "metadata": {},
   "outputs": [
    {
     "name": "stdout",
     "output_type": "stream",
     "text": [
      "Enetr hr : 8\n",
      "Enter am or pm : am\n",
      "Enter hr ahed : 8\n",
      "4 pm\n"
     ]
    }
   ],
   "source": [
    "user = int (input(\"Enetr hr : \"))\n",
    "day = input(\"Enter am or pm : \")\n",
    "hrahead = int(input(\"Enter hr ahed : \"))\n",
    "if user < 1 or user > 12 or (day != 'am' and day != 'pm'):\n",
    "    print(\"invalid\")\n",
    "else:\n",
    "    for i in range(1,hrahead + 1):\n",
    "        user += 1\n",
    "        if user > 12 :\n",
    "            user = 1\n",
    "        if user == 12:\n",
    "            if day == 'am':\n",
    "                day = 'pm'\n",
    "            else:\n",
    "                day='am'\n",
    "    if day == 'am':\n",
    "        print(user , 'am')\n",
    "    else:\n",
    "        print(user , 'pm')"
   ]
  },
  {
   "cell_type": "markdown",
   "metadata": {},
   "source": [
    "## WAP 99 number has a property the sum of it's degits and a product of its digit when added together gives the same number find out such numbers upto 10,000"
   ]
  },
  {
   "cell_type": "code",
   "execution_count": 17,
   "metadata": {},
   "outputs": [
    {
     "name": "stdout",
     "output_type": "stream",
     "text": [
      "19\n",
      "29\n",
      "39\n",
      "49\n",
      "59\n",
      "69\n",
      "79\n",
      "89\n",
      "99\n"
     ]
    }
   ],
   "source": [
    "for i in range(1,10000):\n",
    "    temp = i\n",
    "    sum=0\n",
    "    mul=1\n",
    "    while temp!=0:\n",
    "        sum = sum + temp%10\n",
    "        mul = mul*(temp%10)\n",
    "        temp=temp//10\n",
    "    if sum+mul == i:\n",
    "        print(i)\n",
    "        \n",
    "\"\"\"\n",
    "def calc(num):\n",
    "    digitsum = 0\n",
    "    digitprod = 1\n",
    "    temp=num\n",
    "    if temp == 0:\n",
    "        return 0\n",
    "    while temp > 0:\n",
    "        digit = temp%10\n",
    "        digitsum += digit\n",
    "        digitprod *= digit\n",
    "    return digitsum , digitprod\n",
    "    \n",
    "def find numbers(limit):\n",
    "    for num in range(10,limit+1)\n",
    "        digitsum,digitprod = calc(num)\n",
    "        if digitsum+digitprod == num:\n",
    "            print(num)\n",
    "findnumbers(10000)\n",
    "\"\"\""
   ]
  },
  {
   "cell_type": "markdown",
   "metadata": {},
   "source": [
    "## find number that number mirror is same\n",
    "    1961"
   ]
  },
  {
   "cell_type": "code",
   "execution_count": 35,
   "metadata": {},
   "outputs": [
    {
     "name": "stdout",
     "output_type": "stream",
     "text": [
      "0\n",
      "1\n",
      "8\n",
      "11\n",
      "69\n",
      "88\n",
      "96\n",
      "101\n",
      "111\n",
      "181\n",
      "609\n",
      "619\n",
      "689\n",
      "808\n",
      "818\n",
      "888\n",
      "906\n",
      "916\n",
      "986\n"
     ]
    }
   ],
   "source": [
    "def upside(digit):\n",
    "    if digit == 0: return 0\n",
    "    elif digit == 9: return 6     \n",
    "    elif digit == 6: return 9     \n",
    "    elif digit == 1: return 1     \n",
    "    elif digit == 8: return 8\n",
    "    else: return -1\n",
    "def is_upside(num):\n",
    "    original = num\n",
    "    flipped = 0\n",
    "    power10 = 1\n",
    "    while num > 0:\n",
    "        digit = num % 10\n",
    "        flipdigit = upside(digit)\n",
    "        if flipdigit == -1: return False\n",
    "        flipped = flipped * 10 + flipdigit\n",
    "        num//=10\n",
    "    return flipped == original\n",
    "for num in range(1000):\n",
    "    if is_upside(num):\n",
    "        print(num)"
   ]
  },
  {
   "cell_type": "markdown",
   "metadata": {},
   "source": [
    "## pattern\n",
    "    *\n",
    "    * *\n",
    "    * * *\n",
    "    * * * *"
   ]
  },
  {
   "cell_type": "code",
   "execution_count": 57,
   "metadata": {},
   "outputs": [
    {
     "name": "stdout",
     "output_type": "stream",
     "text": [
      "* * * * * * \n",
      "* * * * * \n",
      "* * * * \n",
      "* * * \n",
      "* * \n",
      "* \n"
     ]
    }
   ],
   "source": [
    "for i in range(1,5):\n",
    "    for j in range(5-i):\n",
    "         print(\"* \",end=\"\")\n",
    "    print(\"\")\n"
   ]
  },
  {
   "cell_type": "code",
   "execution_count": 42,
   "metadata": {},
   "outputs": [
    {
     "name": "stdout",
     "output_type": "stream",
     "text": [
      "A \n",
      "B C \n",
      "D E F \n",
      "G H I J \n"
     ]
    }
   ],
   "source": [
    "k=65\n",
    "for i in range(4):\n",
    "    for j in range(1,i+2):\n",
    "        print(chr(k),end=\" \")\n",
    "        k+=1\n",
    "    print()"
   ]
  },
  {
   "cell_type": "code",
   "execution_count": 78,
   "metadata": {},
   "outputs": [
    {
     "name": "stdout",
     "output_type": "stream",
     "text": [
      "        *         \n",
      "      *   *       \n",
      "    * * * * *     \n",
      "  *           *   \n",
      "*               * \n"
     ]
    }
   ],
   "source": [
    "for i in range(0,5):\n",
    "    for j in range(0,9):\n",
    "        if i==0 and j==4:\n",
    "            print(\"*\",end=\" \")\n",
    "        elif i==1 and j==3 or i==1 and j==5:\n",
    "            print(\"*\",end=\" \")\n",
    "        elif i==2 and (j>=2 and j<=6):\n",
    "            print(\"*\",end=\" \")\n",
    "        elif i==3 and j==1 or i==3 and j==7:\n",
    "            print(\"*\",end=\" \")\n",
    "        elif i==4 and j==0 or i==4 and j==8:\n",
    "            print(\"*\",end=\" \")\n",
    "        else:\n",
    "            print(\" \",end=\" \")\n",
    "    print()"
   ]
  },
  {
   "cell_type": "code",
   "execution_count": null,
   "metadata": {},
   "outputs": [],
   "source": []
  },
  {
   "cell_type": "code",
   "execution_count": null,
   "metadata": {},
   "outputs": [],
   "source": []
  }
 ],
 "metadata": {
  "kernelspec": {
   "display_name": "Python 3",
   "language": "python",
   "name": "python3"
  },
  "language_info": {
   "codemirror_mode": {
    "name": "ipython",
    "version": 3
   },
   "file_extension": ".py",
   "mimetype": "text/x-python",
   "name": "python",
   "nbconvert_exporter": "python",
   "pygments_lexer": "ipython3",
   "version": "3.8.5"
  }
 },
 "nbformat": 4,
 "nbformat_minor": 4
}
