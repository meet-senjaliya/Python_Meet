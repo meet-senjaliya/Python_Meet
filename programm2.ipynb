{
 "cells": [
  {
   "cell_type": "markdown",
   "metadata": {},
   "source": [
    "## WAP to encode a number in following format\n",
    "    input = 1034895\n",
    "    output = 2145906"
   ]
  },
  {
   "cell_type": "code",
   "execution_count": 1,
   "metadata": {},
   "outputs": [],
   "source": [
    "def encode(number):\n",
    "    encodenumber=0\n",
    "    multiplier=1\n",
    "    while number>0:\n",
    "        digit=number%10\n",
    "        if digit==9:\n",
    "            encodenumber+=0*multiplier\n",
    "        else:\n",
    "             encodenumber+=(digit+1)*multiplier\n",
    "        multiplier*=10\n",
    "        number//=10\n",
    "    return encodenumber\n",
    "\n",
    "\"\"\"\n",
    "x=int(input(\"Enter number\"))\n",
    "for i in x:\n",
    "    y = int(i)\n",
    "    z = y + 1\n",
    "    if z==10:\n",
    "        z=0\n",
    "    print(z,end=\"\")\n",
    "\"\"\""
   ]
  },
  {
   "cell_type": "code",
   "execution_count": 2,
   "metadata": {
    "scrolled": true
   },
   "outputs": [
    {
     "data": {
      "text/plain": [
       "2145906"
      ]
     },
     "execution_count": 2,
     "metadata": {},
     "output_type": "execute_result"
    }
   ],
   "source": [
    "encode(1034895)"
   ]
  },
  {
   "cell_type": "markdown",
   "metadata": {},
   "source": [
    "## suppose you put one ruppe in bank on first day and every day from next day that is tuesday to sunday you put in rs 1 in from the day before  and every subsequent monday you put in 1 rs more than previous monday if we have number n you have find out total amount of money in the bank at the end of $nth$ day\n",
    "\n",
    "    m=1\n",
    "    t=2\n",
    "    w=3\n",
    "    t=4\n",
    "    f=5\n",
    "    s=6\n",
    "    sun=7\n",
    "    \n",
    "    m=2\n",
    "    t=3\n",
    "    w=4"
   ]
  },
  {
   "cell_type": "code",
   "execution_count": 3,
   "metadata": {},
   "outputs": [
    {
     "name": "stdout",
     "output_type": "stream",
     "text": [
      "17\n",
      "75\n"
     ]
    }
   ],
   "source": [
    "n=int(input())\n",
    "mon_number=1\n",
    "ans=1\n",
    "amount=1\n",
    "for i in range(2,n+1):\n",
    "    if i%7==1:\n",
    "        mon_number+=1\n",
    "        amount=mon_number\n",
    "        ans+=amount\n",
    "    else:\n",
    "        amount+=1\n",
    "        ans+=amount\n",
    "else:\n",
    "    print(ans)"
   ]
  },
  {
   "cell_type": "markdown",
   "metadata": {},
   "source": [
    "## Find smallest positive number satisfying folloing condition\n",
    "- for given number if we removw the last digit and place it at the front the new number so form is exctly 1.5x the original number"
   ]
  },
  {
   "cell_type": "code",
   "execution_count": 4,
   "metadata": {},
   "outputs": [
    {
     "ename": "NameError",
     "evalue": "name 'num' is not defined",
     "output_type": "error",
     "traceback": [
      "\u001b[1;31m---------------------------------------------------------------------------\u001b[0m",
      "\u001b[1;31mNameError\u001b[0m                                 Traceback (most recent call last)",
      "\u001b[1;32m<ipython-input-4-a827883c4f48>\u001b[0m in \u001b[0;36m<module>\u001b[1;34m\u001b[0m\n\u001b[0;32m      1\u001b[0m \u001b[0mnum1\u001b[0m\u001b[1;33m=\u001b[0m\u001b[1;36m1\u001b[0m\u001b[1;33m\u001b[0m\u001b[1;33m\u001b[0m\u001b[0m\n\u001b[1;32m----> 2\u001b[1;33m \u001b[0mtemp1\u001b[0m\u001b[1;33m=\u001b[0m\u001b[0mnum\u001b[0m\u001b[1;33m\u001b[0m\u001b[1;33m\u001b[0m\u001b[0m\n\u001b[0m\u001b[0;32m      3\u001b[0m \u001b[1;32mwhile\u001b[0m \u001b[1;32mTrue\u001b[0m\u001b[1;33m:\u001b[0m\u001b[1;33m\u001b[0m\u001b[1;33m\u001b[0m\u001b[0m\n\u001b[0;32m      4\u001b[0m     \u001b[0mtemp\u001b[0m\u001b[1;33m=\u001b[0m\u001b[0mnum\u001b[0m\u001b[1;33m%\u001b[0m\u001b[1;36m10\u001b[0m\u001b[1;33m\u001b[0m\u001b[1;33m\u001b[0m\u001b[0m\n\u001b[0;32m      5\u001b[0m     \u001b[0mtemp\u001b[0m\u001b[1;33m//=\u001b[0m\u001b[1;36m10\u001b[0m\u001b[1;33m\u001b[0m\u001b[1;33m\u001b[0m\u001b[0m\n",
      "\u001b[1;31mNameError\u001b[0m: name 'num' is not defined"
     ]
    }
   ],
   "source": [
    "num1=1\n",
    "temp1=num\n",
    "while True:\n",
    "    temp=num%10\n",
    "    temp//=10\n",
    "    nnum=int(str(temp)+str(temp1))\n",
    "    if num==1.5*num:\n",
    "        print(num)\n",
    "        print(nnum)\n",
    "    else:\n",
    "        num+=1\n",
    "        temp1=num\n",
    "    "
   ]
  },
  {
   "cell_type": "code",
   "execution_count": null,
   "metadata": {},
   "outputs": [],
   "source": [
    "\n",
    "i=1\n",
    "temp=i\n",
    "q=0\n",
    "while not found:\n",
    "    digit=0\n",
    "    \n",
    "    while temp!=0:\n",
    "        digit = digit + 1\n",
    "        temp = temp//10\n",
    "    ld=i%10\n",
    "    q=q//10\n",
    "    \n",
    "    n=(ld*(10**(digit)))+q\n",
    "    \n",
    "    if n==((1.5)*i):\n",
    "        print(i)\n",
    "        print(n)\n",
    "        break\n",
    "    i=i+1\n",
    "    "
   ]
  },
  {
   "cell_type": "code",
   "execution_count": null,
   "metadata": {},
   "outputs": [],
   "source": []
  }
 ],
 "metadata": {
  "kernelspec": {
   "display_name": "Python 3",
   "language": "python",
   "name": "python3"
  },
  "language_info": {
   "codemirror_mode": {
    "name": "ipython",
    "version": 3
   },
   "file_extension": ".py",
   "mimetype": "text/x-python",
   "name": "python",
   "nbconvert_exporter": "python",
   "pygments_lexer": "ipython3",
   "version": "3.8.5"
  }
 },
 "nbformat": 4,
 "nbformat_minor": 4
}
